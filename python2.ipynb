{
  "cells": [
    {
      "cell_type": "markdown",
      "id": "b80ef39c-101f-46b1-bdcb-419d763b41d0",
      "metadata": {},
      "source": [
        "# Python Homework\n",
        "-- Tuğçe Kul\n",
        "\n",
        "\n"
      ]
    },
    {
      "cell_type": "markdown",
      "id": "79ed4305-da8a-4214-a989-127e49f67e24",
      "metadata": {},
      "source": [
        "Library importing and init some varibles for later usage "
      ]
    },
    {
      "cell_type": "code",
      "execution_count": 20,
      "id": "fe55883a-6887-43dd-9498-5333a51799e2",
      "metadata": {
        "trusted": true
      },
      "outputs": [],
      "source": [
        "import pandas as pd  # Import pandas library\n",
        "import statistics  # Import statistics library\n",
        "import numpy as np\n",
        "\n",
        "ORDER = \"Order\"\n",
        "BRUT_M2 = \"Brüt m²\"\n",
        "NET_M2 = \"Net m²\"\n",
        "ROOMS = \"Rooms\"\n",
        "BATH = \"Bath\"\n",
        "FLOORS = \"Floors\"\n",
        "FLOOR_LOCATION = \"Floor Location\"\n",
        "BUILDING_AGE = \"Building Age\"\n",
        "HEATING_TYPE = \"Heating Type\"\n",
        "FURNITURE = \"Furniture\"\n",
        "USING_STATUS = \"Using Status\"\n",
        "BUILDING_STATUS = \"Building Status\"\n",
        "HOUSING_TYPE = \"Housing Type\"\n",
        "RENT_EARNING = \"Rent Earning\"\n",
        "FROM = \"From\"\n",
        "SUITABLE_FOR_CREDIT = \"Suitable for Credit\"\n",
        "PRICE = \"Price\"\n",
        "COORD1 = \"Coord1\"\n",
        "COORD2 = \"Coord2\"\n",
        "STREET = \"Street\"\n",
        "DISTRICT = \"District\"\n",
        "LOCATION3 = \"Location3\"\n",
        "DUE_PRICE = \"Due Price\"\n",
        "SUITABLE_FOR_EXCHANGE = \"Suitable for exchange\"\n",
        "\n",
        "FILLER_TYPE = {\n",
        "    ORDER: \"continuous\",\n",
        "    BRUT_M2: \"continuous\",\n",
        "    NET_M2: \"continuous\",\n",
        "    ROOMS: \"continuous\",\n",
        "    BATH: \"continuous\",\n",
        "    FLOORS: \"categorical\",\n",
        "    FLOOR_LOCATION: \"categorical\",\n",
        "    BUILDING_AGE: \"continuous\",\n",
        "    HEATING_TYPE: \"categorical\",\n",
        "    FURNITURE: \"categorical\",\n",
        "    USING_STATUS: \"categorical\",\n",
        "    BUILDING_STATUS: \"categorical\",\n",
        "    HOUSING_TYPE: \"categorical\",\n",
        "    RENT_EARNING: \"continuous\",\n",
        "    FROM: \"categorical\",\n",
        "    SUITABLE_FOR_CREDIT: \"categorical\",\n",
        "    PRICE: \"continuous\",\n",
        "    COORD1: \"continuous\",\n",
        "    COORD2: \"continuous\",\n",
        "    STREET: \"categorical\",\n",
        "    DISTRICT: \"categorical\",\n",
        "    LOCATION3: \"categorical\",\n",
        "    DUE_PRICE: \"continuous\",\n",
        "    SUITABLE_FOR_EXCHANGE: \"categorical\",\n",
        "}"
      ]
    },
    {
      "cell_type": "markdown",
      "id": "b5cf8f3c-d692-4b33-a3f2-7bfc091d1b2d",
      "metadata": {},
      "source": [
        "1. Import the data as a dataframe."
      ]
    },
    {
      "cell_type": "code",
      "execution_count": 21,
      "id": "c32d72e9-26af-4745-ac63-519c8fc8dd5c",
      "metadata": {
        "trusted": true
      },
      "outputs": [],
      "source": [
        "df = pd.read_csv(\"data.csv\")"
      ]
    },
    {
      "cell_type": "markdown",
      "id": "6d960284-a71a-403a-a80a-ec06febccc59",
      "metadata": {},
      "source": [
        "<code>get_all_districts</code> function is gonna be very useful later. The function returns all unique districts in df."
      ]
    },
    {
      "cell_type": "code",
      "execution_count": 56,
      "id": "46e249fa-347d-4a37-ae64-cb34680112e9",
      "metadata": {
        "trusted": true
      },
      "outputs": [],
      "source": [
        "def get_all_districts():\n",
        "    return df[\"District\"].unique()"
      ]
    },
    {
      "cell_type": "markdown",
      "id": "7280e359-762d-470d-b688-21e30fca7c77",
      "metadata": {},
      "source": [
        "2. <code>fill_missing_prices</code> function iterate all districts and finds the average price of it and place into df as integer."
      ]
    },
    {
      "cell_type": "code",
      "execution_count": 57,
      "id": "07bd9a2c-bd63-4131-8976-538296b02402",
      "metadata": {
        "trusted": true
      },
      "outputs": [],
      "source": [
        "def find_average_price(district):\n",
        "    prices = df[df[\"District\"] == district][\"Price\"]  # Get all prices of district\n",
        "    prices = prices[prices.notnull()]  # Remove NaN values\n",
        "    return int(prices.mean())  # Return average price of district\n",
        "\n",
        "\n",
        "def fill_missing_prices():\n",
        "    for district in get_all_districts():  # Iterate over all districts\n",
        "        avg_price = find_average_price(district)  # Find average price of district\n",
        "        df.loc[df[\"District\"] == district, \"Price\"] = df.loc[\n",
        "            df[\"District\"] == district, \"Price\"\n",
        "        ].fillna(\n",
        "            avg_price\n",
        "        )  # Fill missing prices with average price of district\n",
        "    df[\"Price\"] = df[\"Price\"].astype(int)  # Convert Price column to int type"
      ]
    },
    {
      "cell_type": "markdown",
      "id": "a35049bd-d4b6-4c46-bc6b-244b6678cde3",
      "metadata": {},
      "source": [
        "3. <code>fill_empty_columns</code> function is takes a column_name that in FILLER_TYPE and from FILLER_TYPE gets its type. if type continuous gets the median of it, if type is categorical get its mode."
      ]
    },
    {
      "cell_type": "code",
      "execution_count": 58,
      "id": "efb5f998-d200-4723-832b-c99810d76475",
      "metadata": {
        "trusted": true
      },
      "outputs": [],
      "source": [
        "def fill_empty_columns(column_name):\n",
        "    if FILLER_TYPE[column_name] == \"continuous\":  # If column is continuous\n",
        "        # Fill missing values with median\n",
        "        df[column_name] = df[column_name].fillna(\n",
        "            type(df[column_name]) == int\n",
        "            and df[column_name].median()\n",
        "            or type(df[column_name]) == float\n",
        "            and df[column_name].median()\n",
        "        )\n",
        "    elif FILLER_TYPE[column_name] == \"categorical\":  # If column is categorical\n",
        "        df[column_name] = df[column_name].fillna(\n",
        "            df[column_name].mode()[0]\n",
        "        )"
      ]
    },
    {
      "cell_type": "markdown",
      "id": "b796180b-de5d-418f-85c7-d1bdebc896bf",
      "metadata": {},
      "source": [
        "4. <code>find_and_remove_duplicates</code> function first sort everything by price. Low price is first now. Then if everything same other than price, drop it and keep the first one (a.k.a lowest price). Then sort by order again to back to normal."
      ]
    },
    {
      "cell_type": "code",
      "execution_count": 59,
      "id": "0c183729-f83d-43bf-92bd-bc5ee9645f47",
      "metadata": {
        "trusted": true
      },
      "outputs": [],
      "source": [
        "def find_and_remove_duplicates():\n",
        "    df.sort_values(by=[PRICE], inplace=True, ascending=True) # Sort by price ascending\n",
        "    df.drop_duplicates(  # Drop duplicates\n",
        "        subset=[\n",
        "            BRUT_M2,\n",
        "            NET_M2,\n",
        "            ROOMS,\n",
        "            BATH,\n",
        "            FLOORS,\n",
        "            FLOOR_LOCATION,\n",
        "            BUILDING_AGE,\n",
        "            HEATING_TYPE,\n",
        "            FURNITURE,\n",
        "            USING_STATUS,\n",
        "            BUILDING_STATUS,\n",
        "            HOUSING_TYPE,\n",
        "            RENT_EARNING,\n",
        "            FROM,\n",
        "            SUITABLE_FOR_CREDIT,\n",
        "            COORD1,\n",
        "            COORD2,\n",
        "            STREET,\n",
        "            DISTRICT,\n",
        "            LOCATION3,\n",
        "            DUE_PRICE,\n",
        "            SUITABLE_FOR_EXCHANGE,\n",
        "        ],\n",
        "        keep=\"first\",  # Keep first\n",
        "        inplace=True,\n",
        "    )\n",
        "    df.sort_values(by=[ORDER], inplace=True)  # Sort by order"
      ]
    },
    {
      "cell_type": "markdown",
      "id": "67e819de-88ec-4779-971e-051c2c52f7a0",
      "metadata": {},
      "source": [
        "5. <code>create_new_df</code> function creates new dataframe from first df. Only have two columns \"District\" and \"Average Price\". First we will create a new df from columns. Iterate over all district and find the average price of the districts. Then create the data from it. Lastly add the data to new df then return it."
      ]
    },
    {
      "cell_type": "code",
      "execution_count": 60,
      "id": "753fcdc2-60c6-4b21-b115-75ac0bf2800d",
      "metadata": {
        "trusted": true
      },
      "outputs": [],
      "source": [
        "def create_new_df():\n",
        "    columns = [\"District\", \"Average Price\"]\n",
        "    new_df = pd.DataFrame(columns=columns) # Create new dataframe\n",
        "    for district in get_all_districts(): # Iterate over all districts\n",
        "        avg_price = find_average_price(district) # Find average price of district\n",
        "        new_data = {\"District\": district, \"Average Price\": avg_price} # Create new data\n",
        "        new_df = new_df._append(new_data, ignore_index=True) # Append new data to new dataframe\n",
        "    return new_df # Return new dataframe"
      ]
    },
    {
      "cell_type": "markdown",
      "id": "2c4877e0-d5ab-4933-a69a-75024c423f9e",
      "metadata": {},
      "source": [
        "6. <code>add_std_to_new_df</code> function adds the STD to new column named \"Standard Deviation\". <code>find_std</code> function gets all prices of district and removes to null values if any. Then build in std() function finds the their std and returns. Then the value that we found puts into \"Standard Deviation\" column for that row."
      ]
    },
    {
      "cell_type": "code",
      "execution_count": 61,
      "id": "087b3ab6-37ab-4416-8d50-dfd6f6f7bea9",
      "metadata": {
        "trusted": true
      },
      "outputs": [],
      "source": [
        "def find_std(district):\n",
        "    prices = df[df[\"District\"] == district][\"Price\"]  # Get all prices of district\n",
        "    prices = prices[prices.notnull()]  # Remove NaN values\n",
        "    return prices.std()  # Return standard deviation of prices in districtd\n",
        "\n",
        "def add_std_to_new_df(new_df):\n",
        "    new_df[\"Standard Deviation\"] = new_df[\"District\"].apply(find_std) # Add standard deviation column to new dataframe and apply the find_std function\n",
        "    return new_df # Return new dataframe"
      ]
    },
    {
      "cell_type": "markdown",
      "id": "2e30d797-c065-4350-9a5f-09b68a0678c2",
      "metadata": {},
      "source": [
        "7. "
      ]
    },
    {
      "cell_type": "code",
      "execution_count": null,
      "id": "3260b2f2-4d5f-44f2-95a1-c466cfe621fb",
      "metadata": {
        "trusted": true
      },
      "outputs": [],
      "source": []
    },
    {
      "cell_type": "markdown",
      "id": "e0fd5918-3d2a-47fc-b593-dc4e449e136c",
      "metadata": {},
      "source": [
        "8. <code>find_the_houses</code> function returns a dictionary that contains the number of houses in each price range. First of all, we create a dictionary with the keys 0-250, 250-500 and 500 and over. Then we iterate over all rows and check the price of the house. If the price is less than 250000, we increase the 0-250 count by 1. If the price is less than 500000, we increase the 250-500 count by 1. If the price is greater than 500000, we increase the 500 and over count by 1. Finally, we return the dictionary."
      ]
    },
    {
      "cell_type": "code",
      "execution_count": 62,
      "id": "4121b8f1-48ec-45d9-91d4-7ef82a1a2cd9",
      "metadata": {
        "trusted": true
      },
      "outputs": [],
      "source": [
        "def find_the_houses():\n",
        "    ret = {\"0-250\": 0, \"250-500\": 0, \"500 and over\": 0} # Create return dictionary\n",
        "    for index, row in df.iterrows(): # Iterate over all rows\n",
        "        if row[\"Price\"] < 250000: # If price is less than 250000\n",
        "            ret[\"0-250\"] += 1 # Increase 0-250 count\n",
        "        elif row[\"Price\"] < 500000: # If price is less than 500000\n",
        "            ret[\"250-500\"] += 1 # Increase 250-500 count\n",
        "        else: # If price is greater than 500000\n",
        "            ret[\"500 and over\"] += 1 # Increase 500 and over count\n",
        "    return ret # Return dictionary"
      ]
    },
    {
      "cell_type": "markdown",
      "id": "08741d5f-9c7d-489a-91b2-1bf729273e01",
      "metadata": {},
      "source": [
        "9. <code>find_the_houses_with_given_prices</code> function returns a dictionary that contains the number of houses in each price range. First of all, we create a dictionary with the keys 0-first, first-second and so on. Then we iterate over all rows and check the price of the house. If the price is less than first price, we increase the 0-first count by 1. If the price is less than second price, we increase the first-second count by 1. If the price is greater than last price, we increase the last count by 1. Finally, we return the dictionary."
      ]
    },
    {
      "cell_type": "code",
      "execution_count": 63,
      "id": "9ec274d6-dbe8-4d49-8e94-51635d5d390d",
      "metadata": {
        "trusted": true
      },
      "outputs": [],
      "source": [
        "def find_the_houses_with_given_prices(list_of_prices): # list_of_prices is a list of prices\n",
        "    if len(list_of_prices) < 2: # If list of prices is less than 2\n",
        "        return None # Return None\n",
        "    ret = { # Create return dictionary\n",
        "        \"0-\" + str(list_of_prices[0]): 0, # Create first key\n",
        "    }\n",
        "    for i in range(1, len(list_of_prices)): # Iterate over list of prices\n",
        "        ret[str(list_of_prices[i - 1]) + \"-\" + str(list_of_prices[i])] = 0 # Create key\n",
        "    ret[str(list_of_prices[len(list_of_prices) - 1]) + \" and over\"] = 0 # Create last key\n",
        "    for index, row in df.iterrows(): # Iterate over all rows\n",
        "        if row[\"Price\"] < list_of_prices[0] * 1000: # If price is less than first price\n",
        "            ret[\"0-\" + str(list_of_prices[0])] += 1 # Increase 0-first count\n",
        "        else: # If price is greater than first price\n",
        "            for i in range(1, len(list_of_prices)): # Iterate over list of prices\n",
        "                if row[\"Price\"] < list_of_prices[i] * 1000: # If price is less than current price\n",
        "                    ret[str(list_of_prices[i - 1]) + \"-\" + str(list_of_prices[i])] += 1 # Increase current count\n",
        "                    break # Break loop\n",
        "            else: # If price is greater than last price\n",
        "                ret[str(list_of_prices[len(list_of_prices) - 1]) + \" and over\"] += 1 # Increase last count\n",
        "    return ret # Return dictionary"
      ]
    },
    {
      "cell_type": "markdown",
      "id": "add18018-8093-4660-bddf-12a0b06beaa1",
      "metadata": {},
      "source": [
        "10. <code>find_the_average_price_of_houses_via_room_count</code> function returns a dictionary that contains the average price of houses with the same room count. First of all, we create a dictionary with the keys 1, 2, 3, 4, 5 and 5+. Then we iterate over all rows and check the room count of the house. If the room count is in the dictionary, we append the price to the list. If the room count is not in the dictionary, we create a new list. Finally, we remove NaN values from the list and calculate the average price. Then we return the dictionary."
      ]
    },
    {
      "cell_type": "code",
      "execution_count": 64,
      "id": "45496610-b449-461c-b179-59d719d6bde2",
      "metadata": {
        "trusted": true
      },
      "outputs": [],
      "source": [
        "def find_the_average_price_of_houses_via_room_count():  # list_of_prices is a list of prices\n",
        "    ret = {}  # Create return dictionary\n",
        "    for index, row in df.iterrows():  # Iterate over all rows\n",
        "        if row[\"Rooms\"] in ret:  # If room count is in dictionary\n",
        "            ret[row[\"Rooms\"]].append(row[\"Price\"])  # Append price to list\n",
        "        else:  # If room count is not in dictionary\n",
        "            ret[row[\"Rooms\"]] = [row[\"Price\"]]  # Create new list\n",
        "    for key in ret:  # Iterate over all keys\n",
        "        ret[key] = [\n",
        "            x for x in ret[key] if not math.isnan(x)\n",
        "        ] # Remove NaN values from list\n",
        "        ret[key] = int(statistics.mean(ret[key]))  # Calculate average price\n",
        "    return ret  # Return dictionary"
      ]
    },
    {
      "cell_type": "markdown",
      "id": "b67a0554-dd6f-4f9c-add9-e8a2446a9fb0",
      "metadata": {},
      "source": [
        "11. <code>find_the_average_price_of_houses_via_room_count_and_district</code> function returns a dictionary that contains the average price of houses with the same room count and district. First of all, we create a dictionary with the keys 1, 2, 3, 4, 5 and 5+. Then we iterate over all rows and check the room count of the house. If the room count is equal to given room count, we check the district of the house. If the district is in the dictionary, we append the price to the list. If the district is not in the dictionary, we create a new list. Finally, we remove NaN values from the list and calculate the average price. Then we return the dictionary."
      ]
    },
    {
      "cell_type": "code",
      "execution_count": 65,
      "id": "c66551fd-c679-4fab-8b37-a9987eeb5f4c",
      "metadata": {
        "trusted": true
      },
      "outputs": [],
      "source": [
        "def find_the_average_price_of_houses_via_room_count_and_district(room=\"3+1\"):\n",
        "    ret = {} # Create return dictionary\n",
        "    for index, row in df.iterrows(): # Iterate over all rows\n",
        "        if row[\"Rooms\"] == room: # If room count is equal to given room count\n",
        "            if row[\"District\"] in ret: # If district is in dictionary\n",
        "                ret[row[\"District\"]].append(row[\"Price\"]) # Append price to list\n",
        "            else: # If district is not in dictionary\n",
        "                ret[row[\"District\"]] = [row[\"Price\"]] # Create new list\n",
        "    for key in ret: # Iterate over all keys\n",
        "        ret[key] = [\n",
        "            x for x in ret[key] if not math.isnan(x)\n",
        "        ] # Remove NaN values from list\n",
        "        ret[key] = int(statistics.mean(ret[key])) # Calculate average price\n",
        "    return ret # Return dictionary"
      ]
    },
    {
      "cell_type": "markdown",
      "id": "81e494b8-c3e4-47ab-84e4-298874a2488b",
      "metadata": {},
      "source": [
        "12. <code>print_ordered_df_of_house_prices</code> function prints the dataframe ordered by price. First of all, we copy the dataframe. Then we sort the dataframe by price. Finally, we print the dataframe."
      ]
    },
    {
      "cell_type": "code",
      "execution_count": 66,
      "id": "0e9f6f5a-39bc-477a-8a54-bf7dad003b75",
      "metadata": {
        "trusted": true
      },
      "outputs": [],
      "source": [
        "def print_ordered_df_of_house_prices():\n",
        "    df2 = df.copy()  # Copy dataframe\n",
        "    df2 = df2.sort_values(by=[PRICE])  # Sort by price\n",
        "    print(df2)  # Print dataframe"
      ]
    },
    {
      "cell_type": "markdown",
      "id": "c5417dde-369b-42aa-83b2-4297d89df69d",
      "metadata": {},
      "source": [
        "13. <code>print_ordered_df</code> function prints the dataframe ordered by district and street. First of all, we copy the dataframe. Then we normalize the street names (i.e. İ -> I). Then we decode the street names. Then we sort the dataframe by district and street. Finally, we print the dataframe."
      ]
    },
    {
      "cell_type": "code",
      "execution_count": 67,
      "id": "9e7123af-5900-412e-9cfb-c13dd9a668b8",
      "metadata": {
        "trusted": true
      },
      "outputs": [],
      "source": [
        "def print_ordered_df():\n",
        "    df2 = df.copy() # Copy dataframe\n",
        "    df2[\"Street\"] = (\n",
        "        df2[\"Street\"].str.normalize(\"NFKD\").str.encode(\"ascii\", errors=\"ignore\")\n",
        "    ) # Normalize street names (i.e. İ -> I)\n",
        "    df2[\"Street\"] = df2[\"Street\"].str.decode(\"utf-8\") # Decode street names\n",
        "    df2 = df2.sort_values(by=[\"District\", \"Street\"]) # Sort by district and street\n",
        "    print(df2) # Print dataframe"
      ]
    },
    {
      "cell_type": "markdown",
      "id": "01bd9137-c196-478c-bbb8-5299bb9a5e7c",
      "metadata": {},
      "source": [
        "14. </code>scatter_plot</code> function returns a scatter plot of net m2 and price. First of all, we create a scatter plot of net m2 (X) and price (Y). Then we return the scatter plot."
      ]
    },
    {
      "cell_type": "code",
      "execution_count": 68,
      "id": "05281629-fbb5-4529-811d-c554f4775fd0",
      "metadata": {
        "trusted": true
      },
      "outputs": [],
      "source": [
        "def scatter_plot():\n",
        "    return df.plot.scatter(x=NET_M2, y=PRICE)"
      ]
    },
    {
      "cell_type": "markdown",
      "id": "51f66920-f712-4162-a712-e16b05d4e3eb",
      "metadata": {},
      "source": [
        "15. <code>add_price_per_m2</code> function adds a new column (Price per m2) to the dataframe. First of all, we divide the price by net m2. Then we round the result to 2 decimal places. Finally, we return the dataframe."
      ]
    },
    {
      "cell_type": "code",
      "execution_count": 69,
      "id": "dc459c70-b5b8-4999-ba95-b0334ae5d638",
      "metadata": {
        "trusted": true
      },
      "outputs": [],
      "source": [
        "def add_price_per_m2():\n",
        "    df[\"Price per m2\"] = (df[PRICE] / df[NET_M2]).round(2)\n",
        "    return df"
      ]
    },
    {
      "cell_type": "markdown",
      "id": "99f51348-0943-4ece-bcfc-80e9a742b667",
      "metadata": {},
      "source": [
        "16. <code>add_average_price_per_m2_to_district_df</code> function returns a new dataframe. First of all, we create a new dataframe. Then we add the price per m2 column to the dataframe. Then we add the average price per m2 column to the dataframe by appling <code>find_average_price_per_m2</code>. <code>find_average_price_per_m2</code> function returns the average price per m2 of the given district. First of all, we get all prices of the district. Then we remove NaN values. Finally, we return the average price of the district.\n",
        "Finally return the last df."
      ]
    },
    {
      "cell_type": "code",
      "execution_count": 70,
      "id": "4755e557-d0da-44e3-b435-0b1291aa221a",
      "metadata": {
        "trusted": true
      },
      "outputs": [],
      "source": [
        "def find_average_price_per_m2(district):\n",
        "    prices = df[df[DISTRICT] == district][\"Price per m2\"]  # Get all prices of district\n",
        "    prices = prices[prices.notnull()]  # Remove NaN values\n",
        "    return int(prices.mean())  # Return average price of district\n",
        "\n",
        "\n",
        "def add_average_price_per_m2_to_district_df():\n",
        "    district_df = create_new_df()  # Create dictrict dataframe\n",
        "    add_price_per_m2()  # Add price per m2 column to dataframe\n",
        "    district_df[\"Average Price per m2\"] = district_df[\"District\"].apply(\n",
        "        find_average_price_per_m2\n",
        "    )  # Add average price per m2 column to new dataframe\n",
        "    return district_df # Return new dataframe"
      ]
    },
    {
      "cell_type": "markdown",
      "id": "f1088297-ba74-40f0-9af2-585cd61deba2",
      "metadata": {},
      "source": [
        "17. <code>bar_plot</code> function returns a bar plot of average price per m2. First of all, we create a new dataframe. Then we sort the dataframe by average price per m2. Finally, we return the bar plot."
      ]
    },
    {
      "cell_type": "code",
      "execution_count": 71,
      "id": "9f58d68d-b580-4fa5-b0a7-0bb71ec1f2c2",
      "metadata": {
        "trusted": true
      },
      "outputs": [],
      "source": [
        "def bar_plot():\n",
        "    district_df = add_average_price_per_m2_to_district_df()  # Create dictrict dataframe\n",
        "    district_df = district_df.sort_values(\n",
        "        by=[\"Average Price per m2\"], ascending=False\n",
        "    )  # Sort by average price per m2\n",
        "    return district_df.plot.bar(x=DISTRICT, y=\"Average Price per m2\")"
      ]
    },
    {
      "cell_type": "markdown",
      "id": "cc02a2bd-2561-4f27-8408-3c71fb7b1ab0",
      "metadata": {},
      "source": [
        "18. <code>add_price_predictions</code> function adds a new column to the dataframe. The new column is the price prediction. First of all, we add the price prediction column to the dataframe by using <code>find_3_nearest_houses_average_price</code>. <code>find_3_nearest_houses_average_price</code> function returns the average price of the 3 nearest houses. First of all, we calculate the distance between the house and all other houses. Then we find the 3 nearest houses. Then we drop the distance column. Finally, we calculate the average price of the 3 nearest houses and return it. Then we return the dataframe."
      ]
    },
    {
      "cell_type": "code",
      "execution_count": 72,
      "id": "4af086b0-4288-49dc-83fe-561d0a9f9ce3",
      "metadata": {
        "trusted": true
      },
      "outputs": [],
      "source": [
        "def find_3_nearest_houses_average_price(x1, y1):\n",
        "    df[\"Distance\"] = np.sqrt(\n",
        "        (df[COORD1] - x1) ** 2 + (df[COORD2] - y1) ** 2\n",
        "    )  # Calculate distance\n",
        "    nearest_houses = df.nsmallest(3, \"Distance\")  # Find 3 nearest houses\n",
        "    df.drop(\"Distance\", axis=1, inplace=True)  # Drop distance column\n",
        "    price = int(nearest_houses[PRICE].mean())  # Calculate average price\n",
        "    return price  # Return average price\n",
        "\n",
        "\n",
        "def add_price_predictions():\n",
        "    df[\"Price Prediction\"] = df.apply(\n",
        "        lambda row: find_3_nearest_houses_average_price(row[COORD1], row[COORD2]),\n",
        "        axis=1,\n",
        "    )  # Add price prediction column to dataframe\n",
        "    return df  # Return dataframe"
      ]
    }
  ],
  "metadata": {
    "kernelspec": {
      "display_name": "Python 3",
      "language": "python",
      "name": "python3"
    },
    "language_info": {
      "codemirror_mode": {
        "name": "ipython",
        "version": 3
      },
      "file_extension": ".py",
      "mimetype": "text/x-python",
      "name": "python",
      "nbconvert_exporter": "python",
      "pygments_lexer": "ipython3",
      "version": "3.10.12"
    }
  },
  "nbformat": 4,
  "nbformat_minor": 5
}
